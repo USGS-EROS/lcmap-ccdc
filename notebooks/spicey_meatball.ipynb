{
 "cells": [
  {
   "cell_type": "code",
   "execution_count": 1,
   "metadata": {
    "collapsed": true
   },
   "outputs": [],
   "source": [
    "from firebird import chip\n",
    "from firebird import aardvark as av\n",
    "from test import fixtures as fx\n",
    "\n",
    "import numpy as np\n",
    "\n",
    "from pyspark import SparkContext, SparkConf\n",
    "from datetime import datetime"
   ]
  },
  {
   "cell_type": "code",
   "execution_count": 2,
   "metadata": {
    "collapsed": true
   },
   "outputs": [],
   "source": [
    "#export PYSPARK_DRIVER_PYTHON=python3\n",
    "#export PYSPARK_PYTHON=python3\n",
    "LPW_MESOS_MASTER              = \"mesos://192.168.32.3:5050\"\n",
    "LPW_EXECUTOR_IMAGE            = \"usgseros/lcmap-pyccd-worker:spark\"\n",
    "LPW_EXECUTOR_CORES            = 3\n",
    "LPW_EXECUTOR_FORCE_PULL_IMAGE = \"true\"\n",
    "LPW_SPARK_PARALLELIZATION     = 2"
   ]
  },
  {
   "cell_type": "code",
   "execution_count": 3,
   "metadata": {
    "collapsed": true
   },
   "outputs": [],
   "source": [
    "bands = ('blue', 'cfmask', 'green', 'nir', 'red', 'swir1', 'swir2', 'thermal')\n",
    "g = globals()"
   ]
  },
  {
   "cell_type": "code",
   "execution_count": 4,
   "metadata": {
    "collapsed": true
   },
   "outputs": [],
   "source": [
    "# retrieve chips and specs\n",
    "for band in bands:\n",
    "    # chip specs per band... pertinent data should be consistent across bands, no? \n",
    "    g[band+'_specs'] = fx.chip_specs(band)\n",
    "    \n",
    "    # retrieve chips\n",
    "    g[band+'_chips'] = av.sort([i for i in fx.chips(band)])\n",
    "    \n",
    "    # list of observation dates for this bands chips\n",
    "    g[band+'_dates'] = av.dates(g[band+'_chips'])"
   ]
  },
  {
   "cell_type": "code",
   "execution_count": 5,
   "metadata": {
    "collapsed": true
   },
   "outputs": [],
   "source": [
    "# dates shared across all the bands\n",
    "shared_dates = av.intersection([g[i+'_dates'] for i in bands])"
   ]
  },
  {
   "cell_type": "code",
   "execution_count": 6,
   "metadata": {
    "collapsed": true
   },
   "outputs": [],
   "source": [
    "for band in bands:\n",
    "    # only want data for shared dates\n",
    "    g[band+\"_trimmed\"] = av.trim(g[band+\"_chips\"], shared_dates)\n",
    "    \n",
    "    # chip data as numpy array\n",
    "    g[band+\"_numpy\"] = [i for i in av.to_numpy(g[band+\"_trimmed\"], av.byubid(g[band+\"_specs\"]))]\n",
    "    \n",
    "    # band rods\n",
    "    g[band+\"_rods\"] = av.rods(g[band+\"_numpy\"])\n",
    "    \n",
    "    # numpy array of coordinates (lon, lat) for each pixel \n",
    "    g[band+\"_locs\"] = chip.locations(g[band+\"_specs\"][0]['chip_x'], \n",
    "                                     g[band+\"_specs\"][0]['chip_y'], \n",
    "                                     g[band+'_specs'][0])\n",
    "    \n",
    "    # tie our rods to the correct lon and lat\n",
    "    g[band+\"_assoc\"] = av.assoc(g[band+\"_locs\"], g[band+\"_rods\"])"
   ]
  },
  {
   "cell_type": "code",
   "execution_count": 7,
   "metadata": {},
   "outputs": [
    {
     "data": {
      "text/plain": [
       "array([ 8315,  5289, -9999, ...,  1163,  5220,   780], dtype=int16)"
      ]
     },
     "execution_count": 7,
     "metadata": {},
     "output_type": "execute_result"
    }
   ],
   "source": [
    "# we now have a dictionary per band, keys being the lon/lat for a rods worth of band values, sorted by date\n",
    "blue_assoc[(4920.0, -5850.0)]"
   ]
  },
  {
   "cell_type": "code",
   "execution_count": 8,
   "metadata": {},
   "outputs": [
    {
     "name": "stdout",
     "output_type": "stream",
     "text": [
      "100\n",
      "100\n"
     ]
    }
   ],
   "source": [
    "print(len(blue_locs))\n",
    "print(len(blue_locs[0]))"
   ]
  },
  {
   "cell_type": "code",
   "execution_count": 9,
   "metadata": {},
   "outputs": [
    {
     "data": {
      "text/plain": [
       "100"
      ]
     },
     "execution_count": 9,
     "metadata": {},
     "output_type": "execute_result"
    }
   ],
   "source": [
    "len(blue_locs)"
   ]
  },
  {
   "cell_type": "code",
   "execution_count": 12,
   "metadata": {},
   "outputs": [],
   "source": [
    "pixel_coords = np.reshape(blue_locs, (10000, 2))"
   ]
  },
  {
   "cell_type": "code",
   "execution_count": 16,
   "metadata": {},
   "outputs": [
    {
     "data": {
      "text/plain": [
       "array([8452, 3687, 6506, ..., 1400, 4912,  612], dtype=int16)"
      ]
     },
     "execution_count": 16,
     "metadata": {},
     "output_type": "execute_result"
    }
   ],
   "source": [
    "blue_assoc[tuple(pixel_coords[0])]"
   ]
  },
  {
   "cell_type": "code",
   "execution_count": 17,
   "metadata": {
    "collapsed": true
   },
   "outputs": [],
   "source": [
    "# what we need is a list of tuples:  [((pixel coordinate pair), {dict of band rods})]\n",
    "rdd_able = []\n",
    "for coords in pixel_coords:\n",
    "    _d = dict()\n",
    "    for band in bands:\n",
    "        _d[band] = g[band+\"_assoc\"][tuple(coords)]\n",
    "    _t = (tuple(coords), _d)\n",
    "    rdd_able.append(_t)"
   ]
  },
  {
   "cell_type": "code",
   "execution_count": 18,
   "metadata": {},
   "outputs": [
    {
     "data": {
      "text/plain": [
       "10000"
      ]
     },
     "execution_count": 18,
     "metadata": {},
     "output_type": "execute_result"
    }
   ],
   "source": [
    "len(rdd_able)"
   ]
  },
  {
   "cell_type": "code",
   "execution_count": 19,
   "metadata": {},
   "outputs": [],
   "source": [
    "conf = (SparkConf().setAppName(\"foo\").setMaster(LPW_MESOS_MASTER)\\\n",
    "        .set(\"spark.mesos.executor.docker.image\", LPW_EXECUTOR_IMAGE)\\\n",
    "        .set(\"spark.executor.cores\", LPW_EXECUTOR_CORES)\\\n",
    "        .set(\"spark.mesos.executor.docker.forcePullImage\", LPW_EXECUTOR_FORCE_PULL_IMAGE))"
   ]
  },
  {
   "cell_type": "code",
   "execution_count": 20,
   "metadata": {},
   "outputs": [
    {
     "name": "stderr",
     "output_type": "stream",
     "text": [
      "Could not find valid SPARK_HOME while searching ['/home/caustin/workspace/lcmap-firebird', '/home/caustin/workspace/spark/spark-2.1.0-bin-hadoop2.7/python/lib/pyspark', '/home/caustin/workspace/spark/dist/python/lib/pyspark', '/home/caustin/workspace/spark/dist/python']\n"
     ]
    },
    {
     "ename": "NameError",
     "evalue": "name 'exit' is not defined",
     "output_type": "error",
     "traceback": [
      "\u001b[0;31m---------------------------------------------------------------------------\u001b[0m",
      "\u001b[0;31mStopIteration\u001b[0m                             Traceback (most recent call last)",
      "\u001b[0;32m/home/caustin/workspace/spark/dist/python/lib/pyspark/find_spark_home.py\u001b[0m in \u001b[0;36m_find_spark_home\u001b[0;34m()\u001b[0m\n\u001b[1;32m     67\u001b[0m     \u001b[0;32mtry\u001b[0m\u001b[0;34m:\u001b[0m\u001b[0;34m\u001b[0m\u001b[0m\n\u001b[0;32m---> 68\u001b[0;31m         \u001b[0;32mreturn\u001b[0m \u001b[0mnext\u001b[0m\u001b[0;34m(\u001b[0m\u001b[0mpath\u001b[0m \u001b[0;32mfor\u001b[0m \u001b[0mpath\u001b[0m \u001b[0;32min\u001b[0m \u001b[0mpaths\u001b[0m \u001b[0;32mif\u001b[0m \u001b[0mis_spark_home\u001b[0m\u001b[0;34m(\u001b[0m\u001b[0mpath\u001b[0m\u001b[0;34m)\u001b[0m\u001b[0;34m)\u001b[0m\u001b[0;34m\u001b[0m\u001b[0m\n\u001b[0m\u001b[1;32m     69\u001b[0m     \u001b[0;32mexcept\u001b[0m \u001b[0mStopIteration\u001b[0m\u001b[0;34m:\u001b[0m\u001b[0;34m\u001b[0m\u001b[0m\n",
      "\u001b[0;31mStopIteration\u001b[0m: ",
      "\nDuring handling of the above exception, another exception occurred:\n",
      "\u001b[0;31mNameError\u001b[0m                                 Traceback (most recent call last)",
      "\u001b[0;32m<ipython-input-20-6b825dbb354c>\u001b[0m in \u001b[0;36m<module>\u001b[0;34m()\u001b[0m\n\u001b[0;32m----> 1\u001b[0;31m \u001b[0msc\u001b[0m \u001b[0;34m=\u001b[0m \u001b[0mSparkContext\u001b[0m\u001b[0;34m(\u001b[0m\u001b[0mconf\u001b[0m\u001b[0;34m=\u001b[0m\u001b[0mconf\u001b[0m\u001b[0;34m)\u001b[0m\u001b[0;34m\u001b[0m\u001b[0m\n\u001b[0m",
      "\u001b[0;32m/home/caustin/workspace/spark/dist/python/lib/pyspark/context.py\u001b[0m in \u001b[0;36m__init__\u001b[0;34m(self, master, appName, sparkHome, pyFiles, environment, batchSize, serializer, conf, gateway, jsc, profiler_cls)\u001b[0m\n\u001b[1;32m    113\u001b[0m         \"\"\"\n\u001b[1;32m    114\u001b[0m         \u001b[0mself\u001b[0m\u001b[0;34m.\u001b[0m\u001b[0m_callsite\u001b[0m \u001b[0;34m=\u001b[0m \u001b[0mfirst_spark_call\u001b[0m\u001b[0;34m(\u001b[0m\u001b[0;34m)\u001b[0m \u001b[0;32mor\u001b[0m \u001b[0mCallSite\u001b[0m\u001b[0;34m(\u001b[0m\u001b[0;32mNone\u001b[0m\u001b[0;34m,\u001b[0m \u001b[0;32mNone\u001b[0m\u001b[0;34m,\u001b[0m \u001b[0;32mNone\u001b[0m\u001b[0;34m)\u001b[0m\u001b[0;34m\u001b[0m\u001b[0m\n\u001b[0;32m--> 115\u001b[0;31m         \u001b[0mSparkContext\u001b[0m\u001b[0;34m.\u001b[0m\u001b[0m_ensure_initialized\u001b[0m\u001b[0;34m(\u001b[0m\u001b[0mself\u001b[0m\u001b[0;34m,\u001b[0m \u001b[0mgateway\u001b[0m\u001b[0;34m=\u001b[0m\u001b[0mgateway\u001b[0m\u001b[0;34m,\u001b[0m \u001b[0mconf\u001b[0m\u001b[0;34m=\u001b[0m\u001b[0mconf\u001b[0m\u001b[0;34m)\u001b[0m\u001b[0;34m\u001b[0m\u001b[0m\n\u001b[0m\u001b[1;32m    116\u001b[0m         \u001b[0;32mtry\u001b[0m\u001b[0;34m:\u001b[0m\u001b[0;34m\u001b[0m\u001b[0m\n\u001b[1;32m    117\u001b[0m             self._do_init(master, appName, sparkHome, pyFiles, environment, batchSize, serializer,\n",
      "\u001b[0;32m/home/caustin/workspace/spark/dist/python/lib/pyspark/context.py\u001b[0m in \u001b[0;36m_ensure_initialized\u001b[0;34m(cls, instance, gateway, conf)\u001b[0m\n\u001b[1;32m    254\u001b[0m         \u001b[0;32mwith\u001b[0m \u001b[0mSparkContext\u001b[0m\u001b[0;34m.\u001b[0m\u001b[0m_lock\u001b[0m\u001b[0;34m:\u001b[0m\u001b[0;34m\u001b[0m\u001b[0m\n\u001b[1;32m    255\u001b[0m             \u001b[0;32mif\u001b[0m \u001b[0;32mnot\u001b[0m \u001b[0mSparkContext\u001b[0m\u001b[0;34m.\u001b[0m\u001b[0m_gateway\u001b[0m\u001b[0;34m:\u001b[0m\u001b[0;34m\u001b[0m\u001b[0m\n\u001b[0;32m--> 256\u001b[0;31m                 \u001b[0mSparkContext\u001b[0m\u001b[0;34m.\u001b[0m\u001b[0m_gateway\u001b[0m \u001b[0;34m=\u001b[0m \u001b[0mgateway\u001b[0m \u001b[0;32mor\u001b[0m \u001b[0mlaunch_gateway\u001b[0m\u001b[0;34m(\u001b[0m\u001b[0mconf\u001b[0m\u001b[0;34m)\u001b[0m\u001b[0;34m\u001b[0m\u001b[0m\n\u001b[0m\u001b[1;32m    257\u001b[0m                 \u001b[0mSparkContext\u001b[0m\u001b[0;34m.\u001b[0m\u001b[0m_jvm\u001b[0m \u001b[0;34m=\u001b[0m \u001b[0mSparkContext\u001b[0m\u001b[0;34m.\u001b[0m\u001b[0m_gateway\u001b[0m\u001b[0;34m.\u001b[0m\u001b[0mjvm\u001b[0m\u001b[0;34m\u001b[0m\u001b[0m\n\u001b[1;32m    258\u001b[0m \u001b[0;34m\u001b[0m\u001b[0m\n",
      "\u001b[0;32m/home/caustin/workspace/spark/dist/python/lib/pyspark/java_gateway.py\u001b[0m in \u001b[0;36mlaunch_gateway\u001b[0;34m(conf)\u001b[0m\n\u001b[1;32m     43\u001b[0m         \u001b[0mgateway_port\u001b[0m \u001b[0;34m=\u001b[0m \u001b[0mint\u001b[0m\u001b[0;34m(\u001b[0m\u001b[0mos\u001b[0m\u001b[0;34m.\u001b[0m\u001b[0menviron\u001b[0m\u001b[0;34m[\u001b[0m\u001b[0;34m\"PYSPARK_GATEWAY_PORT\"\u001b[0m\u001b[0;34m]\u001b[0m\u001b[0;34m)\u001b[0m\u001b[0;34m\u001b[0m\u001b[0m\n\u001b[1;32m     44\u001b[0m     \u001b[0;32melse\u001b[0m\u001b[0;34m:\u001b[0m\u001b[0;34m\u001b[0m\u001b[0m\n\u001b[0;32m---> 45\u001b[0;31m         \u001b[0mSPARK_HOME\u001b[0m \u001b[0;34m=\u001b[0m \u001b[0m_find_spark_home\u001b[0m\u001b[0;34m(\u001b[0m\u001b[0;34m)\u001b[0m\u001b[0;34m\u001b[0m\u001b[0m\n\u001b[0m\u001b[1;32m     46\u001b[0m         \u001b[0;31m# Launch the Py4j gateway using Spark's run command so that we pick up the\u001b[0m\u001b[0;34m\u001b[0m\u001b[0;34m\u001b[0m\u001b[0m\n\u001b[1;32m     47\u001b[0m         \u001b[0;31m# proper classpath and settings from spark-env.sh\u001b[0m\u001b[0;34m\u001b[0m\u001b[0;34m\u001b[0m\u001b[0m\n",
      "\u001b[0;32m/home/caustin/workspace/spark/dist/python/lib/pyspark/find_spark_home.py\u001b[0m in \u001b[0;36m_find_spark_home\u001b[0;34m()\u001b[0m\n\u001b[1;32m     69\u001b[0m     \u001b[0;32mexcept\u001b[0m \u001b[0mStopIteration\u001b[0m\u001b[0;34m:\u001b[0m\u001b[0;34m\u001b[0m\u001b[0m\n\u001b[1;32m     70\u001b[0m         \u001b[0mprint\u001b[0m\u001b[0;34m(\u001b[0m\u001b[0;34m\"Could not find valid SPARK_HOME while searching {0}\"\u001b[0m\u001b[0;34m.\u001b[0m\u001b[0mformat\u001b[0m\u001b[0;34m(\u001b[0m\u001b[0mpaths\u001b[0m\u001b[0;34m)\u001b[0m\u001b[0;34m,\u001b[0m \u001b[0mfile\u001b[0m\u001b[0;34m=\u001b[0m\u001b[0msys\u001b[0m\u001b[0;34m.\u001b[0m\u001b[0mstderr\u001b[0m\u001b[0;34m)\u001b[0m\u001b[0;34m\u001b[0m\u001b[0m\n\u001b[0;32m---> 71\u001b[0;31m         \u001b[0mexit\u001b[0m\u001b[0;34m(\u001b[0m\u001b[0;34m-\u001b[0m\u001b[0;36m1\u001b[0m\u001b[0;34m)\u001b[0m\u001b[0;34m\u001b[0m\u001b[0m\n\u001b[0m\u001b[1;32m     72\u001b[0m \u001b[0;34m\u001b[0m\u001b[0m\n\u001b[1;32m     73\u001b[0m \u001b[0;32mif\u001b[0m \u001b[0m__name__\u001b[0m \u001b[0;34m==\u001b[0m \u001b[0;34m\"__main__\"\u001b[0m\u001b[0;34m:\u001b[0m\u001b[0;34m\u001b[0m\u001b[0m\n",
      "\u001b[0;31mNameError\u001b[0m: name 'exit' is not defined"
     ]
    }
   ],
   "source": [
    "sc = SparkContext(conf=conf)"
   ]
  },
  {
   "cell_type": "code",
   "execution_count": null,
   "metadata": {
    "collapsed": true
   },
   "outputs": [],
   "source": [
    "# spark rdd.parallelize the coords numpy array\n",
    "# rdd = sc.parallelize(np.reshape(blue_locs, 10000, 2), 10000)\n",
    "# "
   ]
  },
  {
   "cell_type": "code",
   "execution_count": 17,
   "metadata": {},
   "outputs": [
    {
     "name": "stdout",
     "output_type": "stream",
     "text": [
      "x: 0, y: 0\n",
      "(3000.0, -3000.0)\n",
      "[8452 3687 6506 ..., 1400 4912  612]\n",
      "x: 0, y: 1\n",
      "(3000.0, -3030.0)\n",
      "[8380 3887 6472 ..., 1353 4760  618]\n",
      "x: 0, y: 2\n",
      "(3000.0, -3060.0)\n",
      "[8525 4091 6622 ..., 1343 4839  638]\n",
      "x: 0, y: 3\n",
      "(3000.0, -3090.0)\n",
      "[8461 4103 6448 ..., 1369 4973  671]\n",
      "x: 0, y: 4\n",
      "(3000.0, -3120.0)\n",
      "[ 8518 -9999  6212 ...,  1395  4921   699]\n",
      "x: 0, y: 5\n",
      "(3000.0, -3150.0)\n",
      "[ 8458 -9999  6189 ...,  1563  4813   664]\n",
      "x: 0, y: 6\n",
      "(3000.0, -3180.0)\n",
      "[ 8551 -9999  6281 ...,  1528  4852   722]\n",
      "x: 0, y: 7\n",
      "(3000.0, -3210.0)\n",
      "[ 8560 -9999  6355 ...,  1541  4911   747]\n",
      "x: 0, y: 8\n",
      "(3000.0, -3240.0)\n",
      "[-9999 -9999  6281 ...,  1609  4920   686]\n",
      "x: 0, y: 9\n",
      "(3000.0, -3270.0)\n",
      "[-9999 -9999  6076 ...,  1659  4962   689]\n",
      "x: 1, y: 0\n",
      "(3030.0, -3000.0)\n",
      "[8459 3678 6587 ..., 1458 4797  637]\n",
      "x: 1, y: 1\n",
      "(3030.0, -3030.0)\n",
      "[8413 3758 6451 ..., 1365 4759  611]\n",
      "x: 1, y: 2\n",
      "(3030.0, -3060.0)\n",
      "[8511 3912 6386 ..., 1399 4863  574]\n",
      "x: 1, y: 3\n",
      "(3030.0, -3090.0)\n",
      "[8461 3997 6322 ..., 1423 4921  650]\n",
      "x: 1, y: 4\n",
      "(3030.0, -3120.0)\n",
      "[ 8458 -9999  6307 ...,  1419  4845   702]\n",
      "x: 1, y: 5\n",
      "(3030.0, -3150.0)\n",
      "[ 8487 -9999  6392 ...,  1499  4809   701]\n",
      "x: 1, y: 6\n",
      "(3030.0, -3180.0)\n",
      "[ 8572 -9999  6424 ...,  1522  4887   735]\n",
      "x: 1, y: 7\n",
      "(3030.0, -3210.0)\n",
      "[ 8568 -9999  6435 ...,  1498  4920   765]\n",
      "x: 1, y: 8\n",
      "(3030.0, -3240.0)\n",
      "[ 8491 -9999  6412 ...,  1553  4942   726]\n",
      "x: 1, y: 9\n",
      "(3030.0, -3270.0)\n",
      "[-9999 -9999  6207 ...,  1607  4936   698]\n",
      "x: 2, y: 0\n",
      "(3060.0, -3000.0)\n",
      "[8368 3513 6523 ..., 1560 4782  741]\n",
      "x: 2, y: 1\n",
      "(3060.0, -3030.0)\n",
      "[8403 3690 6386 ..., 1433 4782  689]\n",
      "x: 2, y: 2\n",
      "(3060.0, -3060.0)\n",
      "[8458 3811 6316 ..., 1432 4897  599]\n",
      "x: 2, y: 3\n",
      "(3060.0, -3090.0)\n",
      "[8460 3883 6319 ..., 1440 4828  696]\n",
      "x: 2, y: 4\n",
      "(3060.0, -3120.0)\n",
      "[ 8470 -9999  6377 ...,  1410  4792   706]\n",
      "x: 2, y: 5\n",
      "(3060.0, -3150.0)\n",
      "[ 8556 -9999  6403 ...,  1439  4758   706]\n",
      "x: 2, y: 6\n",
      "(3060.0, -3180.0)\n",
      "[ 8570 -9999  6412 ...,  1471  4869   737]\n",
      "x: 2, y: 7\n",
      "(3060.0, -3210.0)\n",
      "[ 8540 -9999  6488 ...,  1482  4895   765]\n",
      "x: 2, y: 8\n",
      "(3060.0, -3240.0)\n",
      "[ 8525 -9999  6625 ...,  1534  4951   742]\n",
      "x: 2, y: 9\n",
      "(3060.0, -3270.0)\n",
      "[-9999 -9999  6236 ...,  1562  4935   665]\n",
      "x: 3, y: 0\n",
      "(3090.0, -3000.0)\n",
      "[8432 3389 6472 ..., 1585 4900  713]\n",
      "x: 3, y: 1\n",
      "(3090.0, -3030.0)\n",
      "[8454 3487 6417 ..., 1547 4828  668]\n",
      "x: 3, y: 2\n",
      "(3090.0, -3060.0)\n",
      "[8512 3621 6453 ..., 1418 4897  666]\n",
      "x: 3, y: 3\n",
      "(3090.0, -3090.0)\n",
      "[8487 3720 6431 ..., 1421 4868  695]\n",
      "x: 3, y: 4\n",
      "(3090.0, -3120.0)\n",
      "[8484 3732 6411 ..., 1426 4845  673]\n",
      "x: 3, y: 5\n",
      "(3090.0, -3150.0)\n",
      "[8549 3727 6476 ..., 1409 4706  660]\n",
      "x: 3, y: 6\n",
      "(3090.0, -3180.0)\n",
      "[ 8625 -9999  6462 ...,  1410  4854   712]\n",
      "x: 3, y: 7\n",
      "(3090.0, -3210.0)\n",
      "[ 8556 -9999  6627 ...,  1457  4898   698]\n",
      "x: 3, y: 8\n",
      "(3090.0, -3240.0)\n",
      "[ 8561 -9999  6528 ...,  1492  4782   665]\n",
      "x: 3, y: 9\n",
      "(3090.0, -3270.0)\n",
      "[ 8651 -9999  6337 ...,  1520  4853   696]\n",
      "x: 4, y: 0\n",
      "(3120.0, -3000.0)\n",
      "[8383 3220 6431 ..., 1488 4979  711]\n",
      "x: 4, y: 1\n",
      "(3120.0, -3030.0)\n",
      "[8434 3314 6636 ..., 1585 4936  745]\n",
      "x: 4, y: 2\n",
      "(3120.0, -3060.0)\n",
      "[8498 3445 6591 ..., 1474 4947  681]\n",
      "x: 4, y: 3\n",
      "(3120.0, -3090.0)\n",
      "[8519 3571 6448 ..., 1423 4912  628]\n",
      "x: 4, y: 4\n",
      "(3120.0, -3120.0)\n",
      "[8522 3582 6342 ..., 1431 4821  625]\n",
      "x: 4, y: 5\n",
      "(3120.0, -3150.0)\n",
      "[8505 3553 6384 ..., 1408 4714  685]\n",
      "x: 4, y: 6\n",
      "(3120.0, -3180.0)\n",
      "[ 8588 -9999  6534 ...,  1524  4744   757]\n",
      "x: 4, y: 7\n",
      "(3120.0, -3210.0)\n",
      "[ 8573 -9999  6715 ...,  1430  4831   739]\n",
      "x: 4, y: 8\n",
      "(3120.0, -3240.0)\n",
      "[ 8590 -9999  6569 ...,  1423  4844   709]\n",
      "x: 4, y: 9\n",
      "(3120.0, -3270.0)\n",
      "[ 8576 -9999  6323 ...,  1466  4874   696]\n",
      "x: 5, y: 0\n",
      "(3150.0, -3000.0)\n",
      "[8480 3149 6520 ..., 1486 5051  758]\n",
      "x: 5, y: 1\n",
      "(3150.0, -3030.0)\n",
      "[8372 3094 6636 ..., 1613 5008  702]\n",
      "x: 5, y: 2\n",
      "(3150.0, -3060.0)\n",
      "[8463 3330 6570 ..., 1512 4957  665]\n",
      "x: 5, y: 3\n",
      "(3150.0, -3090.0)\n",
      "[8588 3421 6447 ..., 1415 4942  593]\n",
      "x: 5, y: 4\n",
      "(3150.0, -3120.0)\n",
      "[8580 3501 6352 ..., 1435 4734  574]\n",
      "x: 5, y: 5\n",
      "(3150.0, -3150.0)\n",
      "[8620 3450 6457 ..., 1372 4614  712]\n",
      "x: 5, y: 6\n",
      "(3150.0, -3180.0)\n",
      "[ 8585 -9999  6625 ...,  1420  4687   708]\n",
      "x: 5, y: 7\n",
      "(3150.0, -3210.0)\n",
      "[ 8529 -9999  6722 ...,  1374  4785   704]\n",
      "x: 5, y: 8\n",
      "(3150.0, -3240.0)\n",
      "[ 8618 -9999  6585 ...,  1388  4799   719]\n",
      "x: 5, y: 9\n",
      "(3150.0, -3270.0)\n",
      "[ 8576 -9999  6292 ...,  1456  4807   739]\n",
      "x: 6, y: 0\n",
      "(3180.0, -3000.0)\n",
      "[8439 3083 6705 ..., 1546 5130  689]\n",
      "x: 6, y: 1\n",
      "(3180.0, -3030.0)\n",
      "[8488 3028 6659 ..., 1737 5033  675]\n",
      "x: 6, y: 2\n",
      "(3180.0, -3060.0)\n",
      "[8503 3226 6549 ..., 1663 4985  693]\n",
      "x: 6, y: 3\n",
      "(3180.0, -3090.0)\n",
      "[8590 3284 6391 ..., 1390 4940  577]\n",
      "x: 6, y: 4\n",
      "(3180.0, -3120.0)\n",
      "[8530 3428 6365 ..., 1369 4686  593]\n",
      "x: 6, y: 5\n",
      "(3180.0, -3150.0)\n",
      "[8543 3334 6589 ..., 1411 4612  670]\n",
      "x: 6, y: 6\n",
      "(3180.0, -3180.0)\n",
      "[ 8547 -9999  6684 ...,  1429  4653   698]\n",
      "x: 6, y: 7\n",
      "(3180.0, -3210.0)\n",
      "[ 8496 -9999  6630 ...,  1434  4759   693]\n",
      "x: 6, y: 8\n",
      "(3180.0, -3240.0)\n",
      "[ 8488 -9999  6512 ...,  1437  4835   708]\n",
      "x: 6, y: 9\n",
      "(3180.0, -3270.0)\n",
      "[ 8487 -9999  6192 ...,  1430  4803   701]\n",
      "x: 7, y: 0\n",
      "(3210.0, -3000.0)\n",
      "[8425 2888 6691 ..., 1550 5127  656]\n",
      "x: 7, y: 1\n",
      "(3210.0, -3030.0)\n",
      "[8434 2895 6551 ..., 1750 5043  655]\n",
      "x: 7, y: 2\n",
      "(3210.0, -3060.0)\n",
      "[8515 3059 6386 ..., 1724 5091  773]\n",
      "x: 7, y: 3\n",
      "(3210.0, -3090.0)\n",
      "[8546 3230 6291 ..., 1471 4880  656]\n",
      "x: 7, y: 4\n",
      "(3210.0, -3120.0)\n",
      "[8548 3208 6365 ..., 1315 4666  611]\n",
      "x: 7, y: 5\n",
      "(3210.0, -3150.0)\n",
      "[8553 3136 6541 ..., 1322 4537  615]\n",
      "x: 7, y: 6\n",
      "(3210.0, -3180.0)\n",
      "[8570 3116 6623 ..., 1441 4600  648]\n",
      "x: 7, y: 7\n",
      "(3210.0, -3210.0)\n",
      "[ 8526 -9999  6498 ...,  1494  4777   701]\n",
      "x: 7, y: 8\n",
      "(3210.0, -3240.0)\n",
      "[ 8456 -9999  6317 ...,  1474  4825   641]\n",
      "x: 7, y: 9\n",
      "(3210.0, -3270.0)\n",
      "[ 8435 -9999  6214 ...,  1433  4852   670]\n",
      "x: 8, y: 0\n",
      "(3240.0, -3000.0)\n",
      "[8438 2853 6542 ..., 1581 4966  730]\n",
      "x: 8, y: 1\n",
      "(3240.0, -3030.0)\n",
      "[8441 2924 6463 ..., 1726 4932  703]\n",
      "x: 8, y: 2\n",
      "(3240.0, -3060.0)\n",
      "[8529 3080 6387 ..., 1738 4939  753]\n",
      "x: 8, y: 3\n",
      "(3240.0, -3090.0)\n",
      "[8549 3192 6342 ..., 1630 4914  703]\n",
      "x: 8, y: 4\n",
      "(3240.0, -3120.0)\n",
      "[8541 3144 6306 ..., 1415 4751  605]\n",
      "x: 8, y: 5\n",
      "(3240.0, -3150.0)\n",
      "[8594 3093 6329 ..., 1273 4469  566]\n",
      "x: 8, y: 6\n",
      "(3240.0, -3180.0)\n",
      "[8547 3061 6391 ..., 1409 4490  661]\n",
      "x: 8, y: 7\n",
      "(3240.0, -3210.0)\n",
      "[8495 2971 6403 ..., 1413 4751  658]\n",
      "x: 8, y: 8\n",
      "(3240.0, -3240.0)\n",
      "[ 8534 -9999  6326 ...,  1391  4793   654]\n",
      "x: 8, y: 9\n",
      "(3240.0, -3270.0)\n",
      "[ 8465 -9999  6401 ...,  1402  4876   687]\n",
      "x: 9, y: 0\n",
      "(3270.0, -3000.0)\n",
      "[8449 2810 6380 ..., 1543 4874  749]\n",
      "x: 9, y: 1\n",
      "(3270.0, -3030.0)\n",
      "[8432 2965 6272 ..., 1634 4884  677]\n",
      "x: 9, y: 2\n",
      "(3270.0, -3060.0)\n",
      "[8560 3047 6254 ..., 1719 4873  677]\n",
      "x: 9, y: 3\n",
      "(3270.0, -3090.0)\n",
      "[8574 3074 6200 ..., 1720 4952  698]\n",
      "x: 9, y: 4\n",
      "(3270.0, -3120.0)\n",
      "[8441 3096 6080 ..., 1506 4860  661]\n",
      "x: 9, y: 5\n",
      "(3270.0, -3150.0)\n",
      "[8587 3101 6026 ..., 1197 4519  595]\n",
      "x: 9, y: 6\n",
      "(3270.0, -3180.0)\n",
      "[8545 2943 6225 ..., 1415 4577  580]\n",
      "x: 9, y: 7\n",
      "(3270.0, -3210.0)\n",
      "[8571 2874 6401 ..., 1409 4822  596]\n",
      "x: 9, y: 8\n",
      "(3270.0, -3240.0)\n",
      "[ 8506 -9999  6496 ...,  1364  4665   615]\n",
      "x: 9, y: 9\n",
      "(3270.0, -3270.0)\n",
      "[ 8557 -9999  6622 ...,  1397  4811   742]\n"
     ]
    }
   ],
   "source": [
    "# 10 vs 100 to avoid overwhelming the notebook\n",
    "for x in range(0, 10):\n",
    "    for y in range(0, 10):\n",
    "        print(\"x: {}, y: {}\".format(x, y))\n",
    "        _coords = tuple(blue_locs[x][y]) \n",
    "        print(_coords)\n",
    "        print(blue_assoc[_coords])\n",
    "        # wrapper for ccd.detect to be run by spark\n",
    "        # run_detect(_coords, chip_x, chip_y, \n",
    "        #            blue_assoc[_coords],\n",
    "        #            cfmask_assoc[_coords],\n",
    "        #            green_assoc[_coords],\n",
    "        #            nir_assoc[_coords],\n",
    "        #            red_assoc[_coords],\n",
    "        #            swir1_assoc[_coords],\n",
    "        #            swir2_assoc[_coords],\n",
    "        #            thermal_assoc[_coords])\n",
    "        "
   ]
  },
  {
   "cell_type": "code",
   "execution_count": null,
   "metadata": {
    "collapsed": true
   },
   "outputs": [],
   "source": []
  }
 ],
 "metadata": {
  "kernelspec": {
   "display_name": "Python 3",
   "language": "python",
   "name": "python3"
  },
  "language_info": {
   "codemirror_mode": {
    "name": "ipython",
    "version": 3
   },
   "file_extension": ".py",
   "mimetype": "text/x-python",
   "name": "python",
   "nbconvert_exporter": "python",
   "pygments_lexer": "ipython3",
   "version": "3.5.3"
  }
 },
 "nbformat": 4,
 "nbformat_minor": 2
}
