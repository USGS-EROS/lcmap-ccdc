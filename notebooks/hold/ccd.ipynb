{
 "cells": [
  {
   "cell_type": "code",
   "execution_count": 8,
   "metadata": {
    "collapsed": true
   },
   "outputs": [],
   "source": [
    "from firebird import AARDVARK_SPECS_URL\n",
    "from firebird.aardvark import pyccd_tile_spec_queries\n",
    "from firebird.aardvark import chip_specs\n",
    "from firebird.aardvark import ubids\n",
    "from firebird.aardvark import data"
   ]
  },
  {
   "cell_type": "code",
   "execution_count": 9,
   "metadata": {},
   "outputs": [
    {
     "name": "stdout",
     "output_type": "stream",
     "text": [
      "http://lcmap-test.cr.usgs.gov:80/landsat/tile-specs\n"
     ]
    }
   ],
   "source": [
    "print(AARDVARK_SPECS_URL)"
   ]
  },
  {
   "cell_type": "code",
   "execution_count": 10,
   "metadata": {
    "collapsed": true
   },
   "outputs": [],
   "source": [
    "band_queries = pyccd_tile_spec_queries(AARDVARK_SPECS_URL)"
   ]
  },
  {
   "cell_type": "code",
   "execution_count": 11,
   "metadata": {},
   "outputs": [
    {
     "data": {
      "text/plain": [
       "{'blue': 'http://lcmap-test.cr.usgs.gov:80/landsat/tile-specs?q=tags:blue AND sr',\n",
       " 'cfmask': 'http://lcmap-test.cr.usgs.gov:80/landsat/tile-specs?q=tags:cfmask AND sr',\n",
       " 'green': 'http://lcmap-test.cr.usgs.gov:80/landsat/tile-specs?q=tags:green AND sr',\n",
       " 'nir': 'http://lcmap-test.cr.usgs.gov:80/landsat/tile-specs?q=tags:nir AND sr',\n",
       " 'red': 'http://lcmap-test.cr.usgs.gov:80/landsat/tile-specs?q=tags:red AND sr',\n",
       " 'swir1': 'http://lcmap-test.cr.usgs.gov:80/landsat/tile-specs?q=tags:swir1 AND sr',\n",
       " 'swir2': 'http://lcmap-test.cr.usgs.gov:80/landsat/tile-specs?q=tags:swir2 AND sr',\n",
       " 'thermal': 'http://lcmap-test.cr.usgs.gov:80/landsat/tile-specs?q=tags:thermal AND toa'}"
      ]
     },
     "execution_count": 11,
     "metadata": {},
     "output_type": "execute_result"
    }
   ],
   "source": [
    "band_queries"
   ]
  },
  {
   "cell_type": "code",
   "execution_count": 17,
   "metadata": {
    "collapsed": true
   },
   "outputs": [],
   "source": [
    "band_specs = {}\n",
    "for band in band_queries:\n",
    "    band_specs[band] = chip_specs(band_queries[band])"
   ]
  },
  {
   "cell_type": "code",
   "execution_count": 18,
   "metadata": {},
   "outputs": [
    {
     "data": {
      "text/plain": [
       "dict_keys(['red', 'green', 'blue', 'cfmask', 'nir', 'thermal', 'swir2', 'swir1'])"
      ]
     },
     "execution_count": 18,
     "metadata": {},
     "output_type": "execute_result"
    }
   ],
   "source": [
    "band_specs.keys()"
   ]
  },
  {
   "cell_type": "code",
   "execution_count": 21,
   "metadata": {},
   "outputs": [
    {
     "name": "stdout",
     "output_type": "stream",
     "text": [
      "red ['LANDSAT_8/OLI_TIRS/sr_band4', 'LANDSAT_5/TM/sr_band3', 'LANDSAT_4/TM/sr_band3', 'LANDSAT_7/ETM/sr_band3']\n",
      "green ['LANDSAT_8/OLI_TIRS/sr_band3', 'LANDSAT_4/TM/sr_band2', 'LANDSAT_7/ETM/sr_band2', 'LANDSAT_5/TM/sr_band2']\n",
      "blue ['LANDSAT_8/OLI_TIRS/sr_band2', 'LANDSAT_4/TM/sr_band1', 'LANDSAT_7/ETM/sr_band1', 'LANDSAT_5/TM/sr_band1']\n",
      "cfmask []\n",
      "nir ['LANDSAT_7/ETM/sr_band4', 'LANDSAT_8/OLI_TIRS/sr_band5', 'LANDSAT_4/TM/sr_band4', 'LANDSAT_5/TM/sr_band4']\n",
      "thermal ['LANDSAT_5/TM/toa_band6', 'LANDSAT_8/OLI_TIRS/toa_band10', 'LANDSAT_8/OLI_TIRS/toa_band11', 'LANDSAT_4/TM/toa_band6', 'LANDSAT_7/ETM/toa_band6']\n",
      "swir2 ['LANDSAT_7/ETM/sr_band7', 'LANDSAT_4/TM/sr_band7', 'LANDSAT_5/TM/sr_band7', 'LANDSAT_8/OLI_TIRS/sr_band7']\n",
      "swir1 ['LANDSAT_7/ETM/sr_band5', 'LANDSAT_5/TM/sr_band5', 'LANDSAT_4/TM/sr_band5', 'LANDSAT_8/OLI_TIRS/sr_band6']\n"
     ]
    }
   ],
   "source": [
    "for band in band_specs:\n",
    "    print(band, ubids(band_specs[band]))"
   ]
  },
  {
   "cell_type": "code",
   "execution_count": null,
   "metadata": {
    "collapsed": true
   },
   "outputs": [],
   "source": [
    "def new_rainbow"
   ]
  }
 ],
 "metadata": {
  "kernelspec": {
   "display_name": "Python 3",
   "language": "python",
   "name": "python3"
  },
  "language_info": {
   "codemirror_mode": {
    "name": "ipython",
    "version": 3
   },
   "file_extension": ".py",
   "mimetype": "text/x-python",
   "name": "python",
   "nbconvert_exporter": "python",
   "pygments_lexer": "ipython3",
   "version": "3.5.3"
  }
 },
 "nbformat": 4,
 "nbformat_minor": 2
}
